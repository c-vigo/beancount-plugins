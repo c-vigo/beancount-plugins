{
 "cells": [
  {
   "cell_type": "code",
   "execution_count": 1,
   "id": "99e6c2c4-2ea2-4638-ab93-8b921ec316d3",
   "metadata": {
    "execution": {
     "iopub.execute_input": "2024-02-19T21:27:38.999180Z",
     "iopub.status.busy": "2024-02-19T21:27:38.998902Z",
     "iopub.status.idle": "2024-02-19T21:27:39.006083Z",
     "shell.execute_reply": "2024-02-19T21:27:39.005164Z",
     "shell.execute_reply.started": "2024-02-19T21:27:38.999115Z"
    }
   },
   "outputs": [],
   "source": [
    "config = \"\"\"{\n",
    " 'zerosum_accounts' : {\n",
    " 'Assets:Zero-Sum-Accounts:Returns-and-Temporary'              : ('', 90),\n",
    " 'Assets:Zero-Sum-Accounts:Checkings'                          : ('', 90),\n",
    " 'Assets:Zero-Sum-Accounts:401k'                               : ('', 90),\n",
    "  },\n",
    "  'account_name_replace' : ('Zero-Sum-Accounts', 'ZSA-Matched'),\n",
    "  'tolerance' : 0.0098,\n",
    " }\"\"\""
   ]
  },
  {
   "cell_type": "code",
   "execution_count": 9,
   "id": "69c61d2b-6308-4c03-93ca-70179a7812d3",
   "metadata": {
    "execution": {
     "iopub.execute_input": "2024-02-19T21:29:09.938849Z",
     "iopub.status.busy": "2024-02-19T21:29:09.938592Z",
     "iopub.status.idle": "2024-02-19T21:29:09.943638Z",
     "shell.execute_reply": "2024-02-19T21:29:09.943156Z",
     "shell.execute_reply.started": "2024-02-19T21:29:09.938832Z"
    },
    "tags": []
   },
   "outputs": [
    {
     "data": {
      "text/plain": [
       "\"{\\n 'zerosum_accounts' : {\\n 'Assets:Zero-Sum-Accounts:Returns-and-Temporary'              : ('', 90),\\n 'Assets:Zero-Sum-Accounts:Checkings'                          : ('', 90),\\n 'Assets:Zero-Sum-Accounts:401k'                               : ('', 90),\\n  },\\n  'account_name_replace' : ('Zero-Sum-Accounts', 'ZSA-Matched'),\\n  'tolerance' : 0.0098,\\n'match_id': True,\\n}\""
      ]
     },
     "execution_count": 9,
     "metadata": {},
     "output_type": "execute_result"
    }
   ],
   "source": [
    "config[:-2]+\"\"\"'match_id': True,\\n}\"\"\""
   ]
  },
  {
   "cell_type": "code",
   "execution_count": null,
   "id": "8f1c5825-f3b2-42b8-a114-3744c3df4df8",
   "metadata": {},
   "outputs": [],
   "source": []
  }
 ],
 "metadata": {
  "kernelspec": {
   "display_name": "Python 3 (ipykernel)",
   "language": "python",
   "name": "python3"
  },
  "language_info": {
   "codemirror_mode": {
    "name": "ipython",
    "version": 3
   },
   "file_extension": ".py",
   "mimetype": "text/x-python",
   "name": "python",
   "nbconvert_exporter": "python",
   "pygments_lexer": "ipython3",
   "version": "3.9.7"
  }
 },
 "nbformat": 4,
 "nbformat_minor": 5
}
